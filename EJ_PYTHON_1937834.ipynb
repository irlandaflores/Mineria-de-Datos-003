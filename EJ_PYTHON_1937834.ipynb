{
 "cells": [
  {
   "cell_type": "markdown",
   "metadata": {},
   "source": [
    "#Ejercicio 1:\n",
    "Realiza una variable con tu matricula y realiza una secuencia de imprimir con tu nombre y tu matricula concatenados"
   ]
  },
  {
   "cell_type": "code",
   "execution_count": 40,
   "metadata": {},
   "outputs": [],
   "source": [
    "MATRICULA=\"1937834\"\n",
    "NOMBRE=\"IRLANDA FLORES\""
   ]
  },
  {
   "cell_type": "markdown",
   "metadata": {},
   "source": [
    "#Ejercicio 2:\n",
    "Pidiendo el input del usuario pide dos números y crea una pequeña calculadora con los operadores básicos de suma, resta, multiplicación, división, y exponente. "
   ]
  },
  {
   "cell_type": "code",
   "execution_count": 21,
   "metadata": {},
   "outputs": [
    {
     "name": "stdout",
     "output_type": "stream",
     "text": [
      "INGRESE EL NUMERO 1: 2\n",
      "INGRESE EL NUMERO 2: 2\n",
      "\t\tOPERACIONES REALIZADAS CON LOS NUMEROS INGRESADOS\n",
      "\n",
      "SUMA: 4.000000\n",
      "RESTA: 0.000000\n",
      "MULTIPLICACION: 4.000000\n",
      "DIVISION: 1.000000 \n",
      "EXPONENTE: 4.000000 \n"
     ]
    }
   ],
   "source": [
    "N1=int(input(\"INGRESE EL NUMERO 1: \"))\n",
    "N2=int(input(\"INGRESE EL NUMERO 2: \"))\n",
    "\n",
    "SUMA= N1+N2\n",
    "RESTA=N1-N2\n",
    "MULT=N1*N2\n",
    "DIV=N1/N2\n",
    "EXP=N1**N2\n",
    "print(\"\\t\\tOPERACIONES REALIZADAS CON LOS NUMEROS INGRESADOS\\n\")\n",
    "print(\"SUMA: %f\\nRESTA: %f\\nMULTIPLICACION: %f\\nDIVISION: %f \\nEXPONENTE: %f \"%(SUMA,RESTA,MULT,DIV,EXP))\n"
   ]
  },
  {
   "cell_type": "markdown",
   "metadata": {},
   "source": [
    "#Ejercicio 3:\n",
    "Con loop while o for, realiza una lista de 10 numeros multiplos de 3, y después realiza una función de loop que sume todos los números dentro del arreglo"
   ]
  },
  {
   "cell_type": "code",
   "execution_count": 44,
   "metadata": {
    "scrolled": true
   },
   "outputs": [
    {
     "name": "stdout",
     "output_type": "stream",
     "text": [
      "LISTA DE MULTIPLOS DEL 3\n",
      " [3, 6, 9, 12, 15, 18, 21, 24, 27, 30]\n",
      "SUMA DE LOS NUMEROS DE LA LISTA\n",
      " 165\n"
     ]
    }
   ],
   "source": [
    "NUMEROS=[]\n",
    "SUMA=0\n",
    "i=0\n",
    "for i in range(3,33,3):\n",
    "    NUMEROS.append(i)\n",
    "print(\"LISTA DE MULTIPLOS DEL 3\\n\",NUMEROS)\n",
    "i=0\n",
    "while i<10:\n",
    "    SUMA=NUMEROS[i]+SUMA\n",
    "    i+=1\n",
    "print(\"SUMA DE LOS NUMEROS DE LA LISTA\\n\",SUMA)\n",
    "    \n"
   ]
  },
  {
   "cell_type": "markdown",
   "metadata": {},
   "source": [
    "#Ejercicio 4\n",
    "Con una función de if else, revisar si un número es par o es impar.\n",
    "Con una función de if else, revisar si un número es primo o no"
   ]
  },
  {
   "cell_type": "code",
   "execution_count": 59,
   "metadata": {},
   "outputs": [
    {
     "name": "stdout",
     "output_type": "stream",
     "text": [
      "INGRESE UN NUMERO: 7\n",
      "EL NUMERO ES IMPAR\n",
      "EL NUMERO ES PRIMO\n"
     ]
    }
   ],
   "source": [
    "NUM=int(input(\"INGRESE UN NUMERO: \"))\n",
    "#NUMERO PAR\n",
    "if NUM%2==0:\n",
    "    print(\"EL NUMERO ES PAR\")\n",
    "else:print(\"EL NUMERO ES IMPAR\")\n",
    "#NUMERO PRIMO, AQUEL QUE TIENE 2 DIVISIONES: EL 1 Y SI MISMO\n",
    "i=0\n",
    "CONTADOR=0\n",
    "for i in range(1,NUM+1):\n",
    "    if NUM%i==0:\n",
    "        CONTADOR+=1\n",
    "if CONTADOR>2:\n",
    "    print(\"EL NUMERO NO ES PRIMO\")\n",
    "else: print(\"EL NUMERO ES PRIMO\")\n",
    "\n"
   ]
  },
  {
   "cell_type": "markdown",
   "metadata": {},
   "source": [
    "#Ejercicio 5\n",
    "Utilizando diferentes clases en python, crea una calculadora con los operadores básicos de suma, resta, multiplicación, división, y exponente."
   ]
  },
  {
   "cell_type": "code",
   "execution_count": 76,
   "metadata": {},
   "outputs": [
    {
     "name": "stdout",
     "output_type": "stream",
     "text": [
      "INGRESE EL NUMERO 1: 2\n",
      "INGRESE EL NUMERO 2: 2\n",
      "SUMA:  4 \n",
      "RESTA:  0 \n",
      "MULTIPLICACION:  4 \n",
      "DIVISION:  1.0 \n",
      "EXPONENTE:  4\n"
     ]
    }
   ],
   "source": [
    "def SUMA(N1,N2):\n",
    "    OPERACION=N1+N2\n",
    "    return OPERACION\n",
    "def RESTA(N1,N2):\n",
    "    OPERACION=N1-N2\n",
    "    return OPERACION\n",
    "def MULT(N1,N2):\n",
    "    OPERACION=N1*N2\n",
    "    return OPERACION\n",
    "def DIV(N1,N2):\n",
    "    OPERACION=N1/N2\n",
    "    return OPERACION\n",
    "def EXP(N1,N2):\n",
    "    OPERACION=N1**N2\n",
    "    return OPERACION\n",
    "\n",
    "N1=int(input(\"INGRESE EL NUMERO 1: \"))\n",
    "N2=int(input(\"INGRESE EL NUMERO 2: \"))\n",
    "print(\"SUMA: \",SUMA(N1,N2),\"\\nRESTA: \",RESTA(N1,N2),\"\\nMULTIPLICACION: \",MULT(N1,N2),\"\\nDIVISION: \",DIV(N1,N2),\"\\nEXPONENTE: \",EXP(N1,N2))\n"
   ]
  },
  {
   "cell_type": "markdown",
   "metadata": {},
   "source": [
    "# Ejercicios con estructuras básicas de python\n",
    "# # TUPLAS\n",
    "Crear una variable flotante, integer, boleana y compleja e imprimir el tipo de variable que es.\n",
    "\n",
    "Crear una tupla con valores enteros imprimir el primer y ultimo valor.\n",
    "\n",
    "Añadir 3 valores de string a la tupla.\n",
    "\n",
    "Verificar si una variable existe dentro de la tupla."
   ]
  },
  {
   "cell_type": "code",
   "execution_count": 168,
   "metadata": {
    "scrolled": true
   },
   "outputs": [
    {
     "name": "stdout",
     "output_type": "stream",
     "text": [
      "<class 'int'> <class 'float'> <class 'bool'> <class 'complex'>\n",
      "PRIMER DIGITO:  1 ULTIMO DIGITO:  10\n",
      "INGRESE UN DATO: IRLANDA\n",
      "True\n"
     ]
    }
   ],
   "source": [
    "ENTERO=1\n",
    "FLOTANTE=2.55\n",
    "BOLEANA=True\n",
    "COMPLEJA=1+5j\n",
    "print(type(ENTERO),type(FLOTANTE),type(BOLEANA),type(COMPLEJA))\n",
    "\n",
    "TUPLA=(1,2,3,4,5,6,7,8,9,10,'IRLANDA','VICTORIA','1937834')\n",
    "print(\"PRIMER DIGITO: \",TUPLA[0],\"ULTIMO DIGITO: \",TUPLA[9])\n",
    "TUPLA=str(TUPLA)\n",
    "DATO=str(input(\"INGRESE UN DATO: \"))\n",
    "print(DATO in TUPLA)\n",
    "        "
   ]
  },
  {
   "cell_type": "markdown",
   "metadata": {},
   "source": [
    "## LISTAS\n",
    "Crear una lista con 40 elementos aleatorios enteros.\n",
    "\n",
    "Con una funcion (def) crear dos listas nuevas a partir de la lista creada por numeros aleatorios, en la cual en una esten los elementos pares, y en la otra los elementos impares.\n",
    "\n",
    "Crear dos variables con la longitud de ambas listas nuevas e imprimir las variables.\n",
    "\n",
    "Ordenar los elementos de la lista par de mayor a menor, y los de la lista impar de menor a mayor.\n",
    "\n",
    "Utilizar al menos cuatro de las funciones de listas en python en la lista original de 40 elementos"
   ]
  },
  {
   "cell_type": "code",
   "execution_count": 164,
   "metadata": {
    "scrolled": false
   },
   "outputs": [
    {
     "name": "stdout",
     "output_type": "stream",
     "text": [
      "LISTA CREADA ALEATORIAMENTE:\n",
      " [4, 42, 28, 11, 50, 18, 26, 16, 19, 1, 72, 83, 99, 99, 37, 19, 43, 85, 88, 1, 43, 62, 48, 21, 98, 75, 7, 80, 68, 27, 61, 20, 50, 63, 75, 58, 23, 47, 8, 91]\n",
      "LISTAS DE NUMEROS\n",
      "PARES:  [4, 8, 16, 18, 20, 26, 28, 42, 48, 50, 58, 62, 68, 72, 80, 88, 98] \n",
      "IMPARES:  [1, 7, 11, 19, 21, 23, 27, 37, 43, 47, 61, 63, 75, 83, 85, 91, 99] \n",
      "LONGITUDES\n",
      "LISTA[1]:  17 \n",
      "LISTA[2]:  17\n",
      "LISTA PAR ORDENADA DE MAYOR A MENOR  [98, 88, 80, 72, 68, 62, 58, 50, 48, 42, 28, 26, 20, 18, 16, 8, 4]\n",
      "LISTA IMPAR ORDENADA DE MENOR A MAYOR  [1, 7, 11, 19, 21, 23, 27, 37, 43, 47, 61, 63, 75, 83, 85, 91, 99]\n"
     ]
    }
   ],
   "source": [
    "import random as r\n",
    "\n",
    "#FUNCIONES UTILIZADAS DE LAS LISTAS: SORT,APPEND,SET,LEN\n",
    "\n",
    "LISTA=[]\n",
    "LISTAPARES=[]\n",
    "LISTAIMPARES=[]\n",
    "'''2.Con una funcion (def) crear dos listas nuevas a partir de la lista creada por numeros aleatorios, \n",
    "en la cual en una esten los elementos pares, y en la otra los elementos impares'''\n",
    "def LISTAS(LISTA):\n",
    "    #NUMEROS PARES\n",
    "    for i in range(len(LISTA)):\n",
    "        if LISTA[i]%2==0:\n",
    "            LISTAPARES.append(LISTA[i])\n",
    "    #NUMEROS IMPARES\n",
    "        else:LISTAIMPARES.append(LISTA[i])\n",
    "    LONGITUD1=len(LISTAPARES)\n",
    "    LONGITUD2=len(LISTAIMPARES)\n",
    "    \n",
    "    return LISTAPARES,LISTAIMPARES,LONGITUD1,LONGITUD2 #SE MANDAN LISTAS y SE MANDAN LAS LONGITUDES\n",
    "\n",
    "#CREANDO LISTA DE 40 ELEMENTOS\n",
    "for i in range(40):\n",
    "    ENTERO=r.randint(1,100)\n",
    "    LISTA.append(ENTERO) \n",
    "\n",
    "print(\"LISTA CREADA ALEATORIAMENTE:\\n\",LISTA) #SE MUESTRA LISTA DE 40 ELEMENTOS\n",
    "LISTA=list(set(LISTA))#SE ELIMINAN LOS REPETIDOS DE LA LISTA\n",
    "#GUARDANDO EN VARIABLES LOS DATOS RETURN DE FUNCION\n",
    "LISTAPARES,LISTAIMPARES,LONGITUD1,LONGITUD2=LISTAS(LISTA)\n",
    "\n",
    "print(\"LISTAS DE NUMEROS\\nPARES: \",LISTAPARES,\"\\nIMPARES: \",LISTAIMPARES,\"\\nLONGITUDES\\nLISTA[1]: \",LONGITUD1,\"\\nLISTA[2]: \",LONGITUD2) \n",
    "LISTAPARES.sort(reverse=True)\n",
    "LISTAIMPARES.sort()\n",
    "print(\"LISTA PAR ORDENADA DE MAYOR A MENOR \",LISTAPARES)\n",
    "print(\"LISTA IMPAR ORDENADA DE MENOR A MAYOR \",LISTAIMPARES)\n",
    "\n",
    "\n"
   ]
  },
  {
   "cell_type": "markdown",
   "metadata": {},
   "source": [
    "# Diccionarios\n",
    "Crear un diccionario de 6 personas que conozcas con su primer nombre y su edad.\n",
    "\n",
    "Crear una lista con los valores de la edad y reacomodar la lista de menor a mayor valor.\n",
    "\n",
    "Usando el diccionario y un loop, imprimir solo los nombres.\n",
    "\n",
    "Añadir dos personas nuevas a tu diccionario, incluyendo edad"
   ]
  },
  {
   "cell_type": "code",
   "execution_count": 183,
   "metadata": {
    "scrolled": false
   },
   "outputs": [
    {
     "name": "stdout",
     "output_type": "stream",
     "text": [
      "EDADES ORDENADAS DE MENOR A MAYOR:  [20, 21, 21, 21, 22, 22]\n",
      "IRLANDA\n",
      "CECY\n",
      "MELENIE\n",
      "KEVIN\n",
      "NALLELI\n",
      "ALICIA\n",
      "INGRESE NOMBRE: KASANDRA\n",
      "INGRESE EDAD: 26\n",
      "INGRESE NOMBRE: MARIA\n",
      "INGRESE EDAD: 18\n",
      "{'IRLANDA': 21, 'CECY': 21, 'MELENIE': 20, 'KEVIN': 21, 'NALLELI': 22, 'ALICIA': 22, 'NOMBRE': 18}\n"
     ]
    }
   ],
   "source": [
    "DICCIONARIO={'IRLANDA':21,'CECY':21,'MELENIE':20,\"KEVIN\":21,'NALLELI':22,'ALICIA':22}\n",
    "\n",
    "LISTA=list(DICCIONARIO.values())\n",
    "LISTA.sort()\n",
    "print(\"EDADES ORDENADAS DE MENOR A MAYOR: \",LISTA)\n",
    "NOMBRES=list(DICCIONARIO.keys())\n",
    "i=0\n",
    "while i<6:\n",
    "    print(NOMBRES[i])\n",
    "    i+=1\n",
    "i=0\n",
    "for i in range(2):\n",
    "    NOMBRE=input(\"INGRESE NOMBRE: \")\n",
    "    EDAD=int(input(\"INGRESE EDAD: \"))\n",
    "    DICCIONARIO['NOMBRE']=EDAD\n",
    "print(DICCIONARIO)\n"
   ]
  },
  {
   "cell_type": "markdown",
   "metadata": {},
   "source": [
    "# Sets\n",
    "Crea un set con 100 numeros aleatorios enteros del 1 al 25.\n",
    "\n",
    "Comprueba la longitud de tu set.\n",
    "\n",
    "Crea una lista de 5 numeros aleatorios del 1 al 10 y comprueba si cada valor aparece en el set inicial."
   ]
  },
  {
   "cell_type": "code",
   "execution_count": 224,
   "metadata": {},
   "outputs": [
    {
     "name": "stdout",
     "output_type": "stream",
     "text": [
      "TAMAÑO DEL CONJUNTO:  10\n",
      "{1, 2, 3, 4, 5, 6, 7, 8, 9, 10}\n",
      "LONGITUD:  10\n",
      "[9, 2, 7, 4, 2]\n",
      "VALORES DE LA LISTA QUE ESTAN EN EL CONJUNTO:  [9, 2, 7, 4, 2]\n"
     ]
    }
   ],
   "source": [
    "import random as r\n",
    "CONJUNTO=set()\n",
    "LISTA=[]\n",
    "REPETIDOS=[]\n",
    "\n",
    "while len(CONJUNTO)<10:\n",
    "    NUMERO=r.randint(1,10)\n",
    "    CONJUNTO.add(NUMERO)\n",
    "    \n",
    "print(\"TAMAÑO DEL CONJUNTO: \",len(CONJUNTO))\n",
    "print(CONJUNTO)\n",
    "print(\"LONGITUD: \",len(CONJUNTO))\n",
    "\n",
    "for i in range(5):\n",
    "    NUMERO=r.randint(1,10)\n",
    "    LISTA.append(NUMERO)\n",
    "print(LISTA)\n",
    "\n",
    "for i in range(5):\n",
    "    if (LISTA[i] in CONJUNTO)==True:\n",
    "        REPETIDOS.append(LISTA[i])\n",
    "    \n",
    "print(\"VALORES DE LA LISTA QUE ESTAN EN EL CONJUNTO: \",REPETIDOS)\n"
   ]
  },
  {
   "cell_type": "markdown",
   "metadata": {},
   "source": [
    "## NOTA:TARDABA LA EJECUCION HASTA EL 100, POR ESO EL RANGO MENOR, PERO IGUALMENTE DEBE DE JALAR CON 100"
   ]
  },
  {
   "cell_type": "code",
   "execution_count": null,
   "metadata": {},
   "outputs": [],
   "source": []
  }
 ],
 "metadata": {
  "kernelspec": {
   "display_name": "Python 3",
   "language": "python",
   "name": "python3"
  }
 },
 "nbformat": 4,
 "nbformat_minor": 4
}
